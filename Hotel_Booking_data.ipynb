{
 "cells": [
  {
   "cell_type": "markdown",
   "id": "175d7384",
   "metadata": {},
   "source": [
    "# <center>Hotel Booking Data </center>"
   ]
  },
  {
   "cell_type": "markdown",
   "id": "0543764f",
   "metadata": {},
   "source": [
    "## Read the dataset via local file"
   ]
  },
  {
   "cell_type": "code",
   "execution_count": 7,
   "id": "11e68b01",
   "metadata": {},
   "outputs": [],
   "source": [
    "import pandas as pd\n",
    "import numpy as np\n",
    "import statistics as st #for mean, median and mode\n",
    "import scipy\n",
    "import matplotlib.pyplot as plt\n",
    "import seaborn as sns\n"
   ]
  },
  {
   "cell_type": "code",
   "execution_count": 10,
   "id": "ec0204f4",
   "metadata": {},
   "outputs": [
    {
     "data": {
      "text/html": [
       "<div>\n",
       "<style scoped>\n",
       "    .dataframe tbody tr th:only-of-type {\n",
       "        vertical-align: middle;\n",
       "    }\n",
       "\n",
       "    .dataframe tbody tr th {\n",
       "        vertical-align: top;\n",
       "    }\n",
       "\n",
       "    .dataframe thead th {\n",
       "        text-align: right;\n",
       "    }\n",
       "</style>\n",
       "<table border=\"1\" class=\"dataframe\">\n",
       "  <thead>\n",
       "    <tr style=\"text-align: right;\">\n",
       "      <th></th>\n",
       "      <th>booking_id</th>\n",
       "      <th>hotel</th>\n",
       "      <th>is_canceled</th>\n",
       "      <th>arrival_date_year</th>\n",
       "      <th>arrival_date_month</th>\n",
       "      <th>arrival_date_week_number</th>\n",
       "      <th>arrival_date_day_of_month</th>\n",
       "      <th>stays_in_weekend_nights</th>\n",
       "      <th>stays_in_week_nights</th>\n",
       "      <th>adults</th>\n",
       "      <th>...</th>\n",
       "      <th>customer_type</th>\n",
       "      <th>adr</th>\n",
       "      <th>required_car_parking_spaces</th>\n",
       "      <th>total_of_special_requests</th>\n",
       "      <th>reservation_status</th>\n",
       "      <th>reservation_status_date</th>\n",
       "      <th>name</th>\n",
       "      <th>email</th>\n",
       "      <th>phone-number</th>\n",
       "      <th>credit_card</th>\n",
       "    </tr>\n",
       "  </thead>\n",
       "  <tbody>\n",
       "    <tr>\n",
       "      <th>0</th>\n",
       "      <td>181104</td>\n",
       "      <td>Resort Hotel</td>\n",
       "      <td>0</td>\n",
       "      <td>2015</td>\n",
       "      <td>July</td>\n",
       "      <td>27</td>\n",
       "      <td>1</td>\n",
       "      <td>0</td>\n",
       "      <td>0</td>\n",
       "      <td>2</td>\n",
       "      <td>...</td>\n",
       "      <td>Transient</td>\n",
       "      <td>0.0</td>\n",
       "      <td>0</td>\n",
       "      <td>0</td>\n",
       "      <td>Check-Out</td>\n",
       "      <td>7/1/15</td>\n",
       "      <td>Ernest Barnes</td>\n",
       "      <td>Ernest.Barnes31@outlook.com</td>\n",
       "      <td>669-792-1661</td>\n",
       "      <td>************4322</td>\n",
       "    </tr>\n",
       "    <tr>\n",
       "      <th>1</th>\n",
       "      <td>181105</td>\n",
       "      <td>Resort Hotel</td>\n",
       "      <td>0</td>\n",
       "      <td>2015</td>\n",
       "      <td>July</td>\n",
       "      <td>27</td>\n",
       "      <td>1</td>\n",
       "      <td>0</td>\n",
       "      <td>0</td>\n",
       "      <td>2</td>\n",
       "      <td>...</td>\n",
       "      <td>Transient</td>\n",
       "      <td>0.0</td>\n",
       "      <td>0</td>\n",
       "      <td>0</td>\n",
       "      <td>Check-Out</td>\n",
       "      <td>7/1/15</td>\n",
       "      <td>Andrea Baker</td>\n",
       "      <td>Andrea_Baker94@aol.com</td>\n",
       "      <td>858-637-6955</td>\n",
       "      <td>************9157</td>\n",
       "    </tr>\n",
       "    <tr>\n",
       "      <th>2</th>\n",
       "      <td>181106</td>\n",
       "      <td>Resort Hotel</td>\n",
       "      <td>0</td>\n",
       "      <td>2015</td>\n",
       "      <td>July</td>\n",
       "      <td>27</td>\n",
       "      <td>1</td>\n",
       "      <td>0</td>\n",
       "      <td>1</td>\n",
       "      <td>1</td>\n",
       "      <td>...</td>\n",
       "      <td>Transient</td>\n",
       "      <td>75.0</td>\n",
       "      <td>0</td>\n",
       "      <td>0</td>\n",
       "      <td>Check-Out</td>\n",
       "      <td>7/2/15</td>\n",
       "      <td>Rebecca Parker</td>\n",
       "      <td>Rebecca_Parker@comcast.net</td>\n",
       "      <td>652-885-2745</td>\n",
       "      <td>************3734</td>\n",
       "    </tr>\n",
       "    <tr>\n",
       "      <th>3</th>\n",
       "      <td>181107</td>\n",
       "      <td>Resort Hotel</td>\n",
       "      <td>0</td>\n",
       "      <td>2015</td>\n",
       "      <td>July</td>\n",
       "      <td>27</td>\n",
       "      <td>1</td>\n",
       "      <td>0</td>\n",
       "      <td>1</td>\n",
       "      <td>1</td>\n",
       "      <td>...</td>\n",
       "      <td>Transient</td>\n",
       "      <td>75.0</td>\n",
       "      <td>0</td>\n",
       "      <td>0</td>\n",
       "      <td>Check-Out</td>\n",
       "      <td>7/2/15</td>\n",
       "      <td>Laura Murray</td>\n",
       "      <td>Laura_M@gmail.com</td>\n",
       "      <td>364-656-8427</td>\n",
       "      <td>************5677</td>\n",
       "    </tr>\n",
       "    <tr>\n",
       "      <th>4</th>\n",
       "      <td>181108</td>\n",
       "      <td>Resort Hotel</td>\n",
       "      <td>0</td>\n",
       "      <td>0</td>\n",
       "      <td>July</td>\n",
       "      <td>27</td>\n",
       "      <td>1</td>\n",
       "      <td>0</td>\n",
       "      <td>2</td>\n",
       "      <td>2</td>\n",
       "      <td>...</td>\n",
       "      <td>Transient</td>\n",
       "      <td>98.0</td>\n",
       "      <td>0</td>\n",
       "      <td>1</td>\n",
       "      <td>Check-Out</td>\n",
       "      <td>7/3/15</td>\n",
       "      <td>Linda Hines</td>\n",
       "      <td>LHines@verizon.com</td>\n",
       "      <td>713-226-5883</td>\n",
       "      <td>************5498</td>\n",
       "    </tr>\n",
       "  </tbody>\n",
       "</table>\n",
       "<p>5 rows × 33 columns</p>\n",
       "</div>"
      ],
      "text/plain": [
       "   booking_id         hotel  is_canceled  arrival_date_year  \\\n",
       "0      181104  Resort Hotel            0               2015   \n",
       "1      181105  Resort Hotel            0               2015   \n",
       "2      181106  Resort Hotel            0               2015   \n",
       "3      181107  Resort Hotel            0               2015   \n",
       "4      181108  Resort Hotel            0                  0   \n",
       "\n",
       "  arrival_date_month  arrival_date_week_number  arrival_date_day_of_month  \\\n",
       "0               July                        27                          1   \n",
       "1               July                        27                          1   \n",
       "2               July                        27                          1   \n",
       "3               July                        27                          1   \n",
       "4               July                        27                          1   \n",
       "\n",
       "   stays_in_weekend_nights  stays_in_week_nights  adults  ...  customer_type  \\\n",
       "0                        0                     0       2  ...      Transient   \n",
       "1                        0                     0       2  ...      Transient   \n",
       "2                        0                     1       1  ...      Transient   \n",
       "3                        0                     1       1  ...      Transient   \n",
       "4                        0                     2       2  ...      Transient   \n",
       "\n",
       "    adr required_car_parking_spaces total_of_special_requests  \\\n",
       "0   0.0                           0                         0   \n",
       "1   0.0                           0                         0   \n",
       "2  75.0                           0                         0   \n",
       "3  75.0                           0                         0   \n",
       "4  98.0                           0                         1   \n",
       "\n",
       "  reservation_status reservation_status_date            name  \\\n",
       "0          Check-Out                  7/1/15   Ernest Barnes   \n",
       "1          Check-Out                  7/1/15    Andrea Baker   \n",
       "2          Check-Out                  7/2/15  Rebecca Parker   \n",
       "3          Check-Out                  7/2/15    Laura Murray   \n",
       "4          Check-Out                  7/3/15     Linda Hines   \n",
       "\n",
       "                         email  phone-number       credit_card  \n",
       "0  Ernest.Barnes31@outlook.com  669-792-1661  ************4322  \n",
       "1       Andrea_Baker94@aol.com  858-637-6955  ************9157  \n",
       "2   Rebecca_Parker@comcast.net  652-885-2745  ************3734  \n",
       "3            Laura_M@gmail.com  364-656-8427  ************5677  \n",
       "4           LHines@verizon.com  713-226-5883  ************5498  \n",
       "\n",
       "[5 rows x 33 columns]"
      ]
     },
     "execution_count": 10,
     "metadata": {},
     "output_type": "execute_result"
    }
   ],
   "source": [
    "data = pd.read_csv('hotel_bookings.csv')\n",
    "data.head()"
   ]
  },
  {
   "cell_type": "markdown",
   "id": "598cabfb",
   "metadata": {},
   "source": [
    "## Check the basic information of the dataset."
   ]
  },
  {
   "cell_type": "code",
   "execution_count": 3,
   "id": "b99fdc9e",
   "metadata": {},
   "outputs": [
    {
     "data": {
      "text/plain": [
       "(119390, 33)"
      ]
     },
     "execution_count": 3,
     "metadata": {},
     "output_type": "execute_result"
    }
   ],
   "source": [
    "data.shape # 119390 rows and 33 columns"
   ]
  },
  {
   "cell_type": "code",
   "execution_count": 4,
   "id": "84e7163a",
   "metadata": {
    "scrolled": true
   },
   "outputs": [
    {
     "name": "stdout",
     "output_type": "stream",
     "text": [
      "<class 'pandas.core.frame.DataFrame'>\n",
      "RangeIndex: 119390 entries, 0 to 119389\n",
      "Data columns (total 33 columns):\n",
      " #   Column                       Non-Null Count   Dtype  \n",
      "---  ------                       --------------   -----  \n",
      " 0   booking_id                   119390 non-null  int64  \n",
      " 1   hotel                        119390 non-null  object \n",
      " 2   is_canceled                  119390 non-null  int64  \n",
      " 3   arrival_date_year            119390 non-null  int64  \n",
      " 4   arrival_date_month           119390 non-null  object \n",
      " 5   arrival_date_week_number     119390 non-null  int64  \n",
      " 6   arrival_date_day_of_month    119390 non-null  int64  \n",
      " 7   stays_in_weekend_nights      119390 non-null  int64  \n",
      " 8   stays_in_week_nights         119390 non-null  int64  \n",
      " 9   adults                       119390 non-null  int64  \n",
      " 10  children                     119386 non-null  float64\n",
      " 11  babies                       119390 non-null  int64  \n",
      " 12  meal                         119390 non-null  object \n",
      " 13  country                      118902 non-null  object \n",
      " 14  market_segment               119390 non-null  object \n",
      " 15  distribution_channel         119390 non-null  object \n",
      " 16  is_repeated_guest            119390 non-null  int64  \n",
      " 17  previous_cancellations       119390 non-null  int64  \n",
      " 18  reserved_room_type           119390 non-null  object \n",
      " 19  assigned_room_type           119390 non-null  object \n",
      " 20  booking_changes              119390 non-null  int64  \n",
      " 21  deposit_type                 119390 non-null  object \n",
      " 22  agent                        103050 non-null  float64\n",
      " 23  customer_type                119390 non-null  object \n",
      " 24  adr                          119390 non-null  float64\n",
      " 25  required_car_parking_spaces  119390 non-null  int64  \n",
      " 26  total_of_special_requests    119390 non-null  int64  \n",
      " 27  reservation_status           119390 non-null  object \n",
      " 28  reservation_status_date      119390 non-null  object \n",
      " 29  name                         119390 non-null  object \n",
      " 30  email                        119390 non-null  object \n",
      " 31  phone-number                 119390 non-null  object \n",
      " 32  credit_card                  119390 non-null  object \n",
      "dtypes: float64(3), int64(14), object(16)\n",
      "memory usage: 30.1+ MB\n"
     ]
    }
   ],
   "source": [
    "data.info()"
   ]
  },
  {
   "cell_type": "markdown",
   "id": "304fbce9",
   "metadata": {},
   "source": [
    "## descriptive statistics"
   ]
  },
  {
   "cell_type": "code",
   "execution_count": 5,
   "id": "08e2a242",
   "metadata": {},
   "outputs": [
    {
     "data": {
      "text/html": [
       "<div>\n",
       "<style scoped>\n",
       "    .dataframe tbody tr th:only-of-type {\n",
       "        vertical-align: middle;\n",
       "    }\n",
       "\n",
       "    .dataframe tbody tr th {\n",
       "        vertical-align: top;\n",
       "    }\n",
       "\n",
       "    .dataframe thead th {\n",
       "        text-align: right;\n",
       "    }\n",
       "</style>\n",
       "<table border=\"1\" class=\"dataframe\">\n",
       "  <thead>\n",
       "    <tr style=\"text-align: right;\">\n",
       "      <th></th>\n",
       "      <th>booking_id</th>\n",
       "      <th>is_canceled</th>\n",
       "      <th>arrival_date_year</th>\n",
       "      <th>arrival_date_week_number</th>\n",
       "      <th>arrival_date_day_of_month</th>\n",
       "      <th>stays_in_weekend_nights</th>\n",
       "      <th>stays_in_week_nights</th>\n",
       "      <th>adults</th>\n",
       "      <th>children</th>\n",
       "      <th>babies</th>\n",
       "      <th>is_repeated_guest</th>\n",
       "      <th>previous_cancellations</th>\n",
       "      <th>booking_changes</th>\n",
       "      <th>agent</th>\n",
       "      <th>adr</th>\n",
       "      <th>required_car_parking_spaces</th>\n",
       "      <th>total_of_special_requests</th>\n",
       "    </tr>\n",
       "  </thead>\n",
       "  <tbody>\n",
       "    <tr>\n",
       "      <th>count</th>\n",
       "      <td>119390.000000</td>\n",
       "      <td>119390.000000</td>\n",
       "      <td>119390.000000</td>\n",
       "      <td>119390.000000</td>\n",
       "      <td>119390.000000</td>\n",
       "      <td>119390.000000</td>\n",
       "      <td>119390.000000</td>\n",
       "      <td>119390.000000</td>\n",
       "      <td>119386.000000</td>\n",
       "      <td>119390.000000</td>\n",
       "      <td>119390.000000</td>\n",
       "      <td>119390.000000</td>\n",
       "      <td>119390.000000</td>\n",
       "      <td>103050.000000</td>\n",
       "      <td>119390.000000</td>\n",
       "      <td>119390.000000</td>\n",
       "      <td>119390.000000</td>\n",
       "    </tr>\n",
       "    <tr>\n",
       "      <th>mean</th>\n",
       "      <td>240798.500000</td>\n",
       "      <td>0.370508</td>\n",
       "      <td>2015.081900</td>\n",
       "      <td>27.165173</td>\n",
       "      <td>15.798241</td>\n",
       "      <td>0.927599</td>\n",
       "      <td>2.500302</td>\n",
       "      <td>1.856403</td>\n",
       "      <td>0.103890</td>\n",
       "      <td>0.007949</td>\n",
       "      <td>0.031912</td>\n",
       "      <td>0.087118</td>\n",
       "      <td>0.221124</td>\n",
       "      <td>86.693382</td>\n",
       "      <td>101.831122</td>\n",
       "      <td>0.062518</td>\n",
       "      <td>0.571363</td>\n",
       "    </tr>\n",
       "    <tr>\n",
       "      <th>std</th>\n",
       "      <td>34465.068657</td>\n",
       "      <td>0.483047</td>\n",
       "      <td>47.756444</td>\n",
       "      <td>13.605138</td>\n",
       "      <td>8.780829</td>\n",
       "      <td>0.998613</td>\n",
       "      <td>1.908286</td>\n",
       "      <td>0.579261</td>\n",
       "      <td>0.398561</td>\n",
       "      <td>0.097436</td>\n",
       "      <td>0.175767</td>\n",
       "      <td>0.844336</td>\n",
       "      <td>0.652306</td>\n",
       "      <td>110.774548</td>\n",
       "      <td>50.535790</td>\n",
       "      <td>0.245291</td>\n",
       "      <td>0.792798</td>\n",
       "    </tr>\n",
       "    <tr>\n",
       "      <th>min</th>\n",
       "      <td>181104.000000</td>\n",
       "      <td>0.000000</td>\n",
       "      <td>0.000000</td>\n",
       "      <td>1.000000</td>\n",
       "      <td>1.000000</td>\n",
       "      <td>0.000000</td>\n",
       "      <td>0.000000</td>\n",
       "      <td>0.000000</td>\n",
       "      <td>0.000000</td>\n",
       "      <td>0.000000</td>\n",
       "      <td>0.000000</td>\n",
       "      <td>0.000000</td>\n",
       "      <td>0.000000</td>\n",
       "      <td>1.000000</td>\n",
       "      <td>-6.380000</td>\n",
       "      <td>0.000000</td>\n",
       "      <td>0.000000</td>\n",
       "    </tr>\n",
       "    <tr>\n",
       "      <th>25%</th>\n",
       "      <td>210951.250000</td>\n",
       "      <td>0.000000</td>\n",
       "      <td>2016.000000</td>\n",
       "      <td>16.000000</td>\n",
       "      <td>8.000000</td>\n",
       "      <td>0.000000</td>\n",
       "      <td>1.000000</td>\n",
       "      <td>2.000000</td>\n",
       "      <td>0.000000</td>\n",
       "      <td>0.000000</td>\n",
       "      <td>0.000000</td>\n",
       "      <td>0.000000</td>\n",
       "      <td>0.000000</td>\n",
       "      <td>9.000000</td>\n",
       "      <td>69.290000</td>\n",
       "      <td>0.000000</td>\n",
       "      <td>0.000000</td>\n",
       "    </tr>\n",
       "    <tr>\n",
       "      <th>50%</th>\n",
       "      <td>240798.500000</td>\n",
       "      <td>0.000000</td>\n",
       "      <td>2016.000000</td>\n",
       "      <td>28.000000</td>\n",
       "      <td>16.000000</td>\n",
       "      <td>1.000000</td>\n",
       "      <td>2.000000</td>\n",
       "      <td>2.000000</td>\n",
       "      <td>0.000000</td>\n",
       "      <td>0.000000</td>\n",
       "      <td>0.000000</td>\n",
       "      <td>0.000000</td>\n",
       "      <td>0.000000</td>\n",
       "      <td>14.000000</td>\n",
       "      <td>94.575000</td>\n",
       "      <td>0.000000</td>\n",
       "      <td>0.000000</td>\n",
       "    </tr>\n",
       "    <tr>\n",
       "      <th>75%</th>\n",
       "      <td>270645.750000</td>\n",
       "      <td>1.000000</td>\n",
       "      <td>2017.000000</td>\n",
       "      <td>38.000000</td>\n",
       "      <td>23.000000</td>\n",
       "      <td>2.000000</td>\n",
       "      <td>3.000000</td>\n",
       "      <td>2.000000</td>\n",
       "      <td>0.000000</td>\n",
       "      <td>0.000000</td>\n",
       "      <td>0.000000</td>\n",
       "      <td>0.000000</td>\n",
       "      <td>0.000000</td>\n",
       "      <td>229.000000</td>\n",
       "      <td>126.000000</td>\n",
       "      <td>0.000000</td>\n",
       "      <td>1.000000</td>\n",
       "    </tr>\n",
       "    <tr>\n",
       "      <th>max</th>\n",
       "      <td>300493.000000</td>\n",
       "      <td>2.000000</td>\n",
       "      <td>2022.000000</td>\n",
       "      <td>53.000000</td>\n",
       "      <td>31.000000</td>\n",
       "      <td>19.000000</td>\n",
       "      <td>50.000000</td>\n",
       "      <td>55.000000</td>\n",
       "      <td>10.000000</td>\n",
       "      <td>10.000000</td>\n",
       "      <td>1.000000</td>\n",
       "      <td>26.000000</td>\n",
       "      <td>21.000000</td>\n",
       "      <td>535.000000</td>\n",
       "      <td>5400.000000</td>\n",
       "      <td>8.000000</td>\n",
       "      <td>5.000000</td>\n",
       "    </tr>\n",
       "  </tbody>\n",
       "</table>\n",
       "</div>"
      ],
      "text/plain": [
       "          booking_id    is_canceled  arrival_date_year  \\\n",
       "count  119390.000000  119390.000000      119390.000000   \n",
       "mean   240798.500000       0.370508        2015.081900   \n",
       "std     34465.068657       0.483047          47.756444   \n",
       "min    181104.000000       0.000000           0.000000   \n",
       "25%    210951.250000       0.000000        2016.000000   \n",
       "50%    240798.500000       0.000000        2016.000000   \n",
       "75%    270645.750000       1.000000        2017.000000   \n",
       "max    300493.000000       2.000000        2022.000000   \n",
       "\n",
       "       arrival_date_week_number  arrival_date_day_of_month  \\\n",
       "count             119390.000000              119390.000000   \n",
       "mean                  27.165173                  15.798241   \n",
       "std                   13.605138                   8.780829   \n",
       "min                    1.000000                   1.000000   \n",
       "25%                   16.000000                   8.000000   \n",
       "50%                   28.000000                  16.000000   \n",
       "75%                   38.000000                  23.000000   \n",
       "max                   53.000000                  31.000000   \n",
       "\n",
       "       stays_in_weekend_nights  stays_in_week_nights         adults  \\\n",
       "count            119390.000000         119390.000000  119390.000000   \n",
       "mean                  0.927599              2.500302       1.856403   \n",
       "std                   0.998613              1.908286       0.579261   \n",
       "min                   0.000000              0.000000       0.000000   \n",
       "25%                   0.000000              1.000000       2.000000   \n",
       "50%                   1.000000              2.000000       2.000000   \n",
       "75%                   2.000000              3.000000       2.000000   \n",
       "max                  19.000000             50.000000      55.000000   \n",
       "\n",
       "            children         babies  is_repeated_guest  \\\n",
       "count  119386.000000  119390.000000      119390.000000   \n",
       "mean        0.103890       0.007949           0.031912   \n",
       "std         0.398561       0.097436           0.175767   \n",
       "min         0.000000       0.000000           0.000000   \n",
       "25%         0.000000       0.000000           0.000000   \n",
       "50%         0.000000       0.000000           0.000000   \n",
       "75%         0.000000       0.000000           0.000000   \n",
       "max        10.000000      10.000000           1.000000   \n",
       "\n",
       "       previous_cancellations  booking_changes          agent            adr  \\\n",
       "count           119390.000000    119390.000000  103050.000000  119390.000000   \n",
       "mean                 0.087118         0.221124      86.693382     101.831122   \n",
       "std                  0.844336         0.652306     110.774548      50.535790   \n",
       "min                  0.000000         0.000000       1.000000      -6.380000   \n",
       "25%                  0.000000         0.000000       9.000000      69.290000   \n",
       "50%                  0.000000         0.000000      14.000000      94.575000   \n",
       "75%                  0.000000         0.000000     229.000000     126.000000   \n",
       "max                 26.000000        21.000000     535.000000    5400.000000   \n",
       "\n",
       "       required_car_parking_spaces  total_of_special_requests  \n",
       "count                119390.000000              119390.000000  \n",
       "mean                      0.062518                   0.571363  \n",
       "std                       0.245291                   0.792798  \n",
       "min                       0.000000                   0.000000  \n",
       "25%                       0.000000                   0.000000  \n",
       "50%                       0.000000                   0.000000  \n",
       "75%                       0.000000                   1.000000  \n",
       "max                       8.000000                   5.000000  "
      ]
     },
     "execution_count": 5,
     "metadata": {},
     "output_type": "execute_result"
    }
   ],
   "source": [
    "data.describe()"
   ]
  },
  {
   "cell_type": "markdown",
   "id": "a225b1df",
   "metadata": {},
   "source": [
    "## Data Wrangling"
   ]
  },
  {
   "cell_type": "markdown",
   "id": "a6f97405",
   "metadata": {},
   "source": [
    "## Filling in missing values\n",
    " "
   ]
  },
  {
   "cell_type": "code",
   "execution_count": 6,
   "id": "70bace4e",
   "metadata": {
    "scrolled": true
   },
   "outputs": [
    {
     "data": {
      "text/plain": [
       "booking_id                         0\n",
       "hotel                              0\n",
       "is_canceled                        0\n",
       "arrival_date_year                  0\n",
       "arrival_date_month                 0\n",
       "arrival_date_week_number           0\n",
       "arrival_date_day_of_month          0\n",
       "stays_in_weekend_nights            0\n",
       "stays_in_week_nights               0\n",
       "adults                             0\n",
       "children                           4\n",
       "babies                             0\n",
       "meal                               0\n",
       "country                          488\n",
       "market_segment                     0\n",
       "distribution_channel               0\n",
       "is_repeated_guest                  0\n",
       "previous_cancellations             0\n",
       "reserved_room_type                 0\n",
       "assigned_room_type                 0\n",
       "booking_changes                    0\n",
       "deposit_type                       0\n",
       "agent                          16340\n",
       "customer_type                      0\n",
       "adr                                0\n",
       "required_car_parking_spaces        0\n",
       "total_of_special_requests          0\n",
       "reservation_status                 0\n",
       "reservation_status_date            0\n",
       "name                               0\n",
       "email                              0\n",
       "phone-number                       0\n",
       "credit_card                        0\n",
       "dtype: int64"
      ]
     },
     "execution_count": 6,
     "metadata": {},
     "output_type": "execute_result"
    }
   ],
   "source": [
    "data.isnull().sum() #Is there any missing data?"
   ]
  },
  {
   "cell_type": "markdown",
   "id": "10a683ef",
   "metadata": {},
   "source": [
    "### What data cleanup was required?\n",
    "<ul>\n",
    "    <li>Remove the AGENT column</li>\n",
    "    <li>Replace null values into highest value for COUNTRY column</li>\n",
    "    <li>NaN values should be removed for CHILDREN column</li>\n",
    "    \n",
    "</ul>"
   ]
  },
  {
   "cell_type": "code",
   "execution_count": 7,
   "id": "9f168fa4",
   "metadata": {
    "scrolled": false
   },
   "outputs": [
    {
     "data": {
      "text/plain": [
       "2016    56650\n",
       "2017    40683\n",
       "2015    20525\n",
       "2020      676\n",
       "2018      534\n",
       "2022      255\n",
       "0          67\n",
       "Name: arrival_date_year, dtype: int64"
      ]
     },
     "execution_count": 7,
     "metadata": {},
     "output_type": "execute_result"
    }
   ],
   "source": [
    "data['arrival_date_year'].value_counts() #Count the rows based on value"
   ]
  },
  {
   "cell_type": "code",
   "execution_count": 8,
   "id": "a6168547",
   "metadata": {},
   "outputs": [],
   "source": [
    "data['arrival_date_year'].fillna(value='0', inplace=True)# Replace NaN value into 0"
   ]
  },
  {
   "cell_type": "code",
   "execution_count": 9,
   "id": "81af37a8",
   "metadata": {},
   "outputs": [],
   "source": [
    "arrival_date_year = data['arrival_date_year']\n",
    "arrival_date_year.replace(to_replace = 0, value = 2016.0, inplace=True)# replace 0 to 2016(highest count)"
   ]
  },
  {
   "cell_type": "markdown",
   "id": "dc44087b",
   "metadata": {},
   "source": [
    "<b>Which countries are the most travelers from? Identify the top five countries.</b>"
   ]
  },
  {
   "cell_type": "code",
   "execution_count": 10,
   "id": "db5e43ca",
   "metadata": {
    "scrolled": true
   },
   "outputs": [
    {
     "data": {
      "text/plain": [
       "PRT    48590\n",
       "GBR    12129\n",
       "FRA    10415\n",
       "ESP     8568\n",
       "DEU     7287\n",
       "Name: country, dtype: int64"
      ]
     },
     "execution_count": 10,
     "metadata": {},
     "output_type": "execute_result"
    }
   ],
   "source": [
    "data['country'].value_counts().head()"
   ]
  },
  {
   "cell_type": "code",
   "execution_count": 11,
   "id": "e60bf221",
   "metadata": {},
   "outputs": [],
   "source": [
    "data['country'].fillna(value='PRT', inplace=True)# Replace NaN value into PRT(Highest count)\n",
    "data['children'].fillna(value='0', inplace=True) # Replace NaN value into 0(Highest count)\n"
   ]
  },
  {
   "cell_type": "markdown",
   "id": "fb126c34",
   "metadata": {},
   "source": [
    "<b>Specify the name of the person who has the highest payment (ADR).</b>"
   ]
  },
  {
   "cell_type": "code",
   "execution_count": 12,
   "id": "820daf5b",
   "metadata": {},
   "outputs": [
    {
     "data": {
      "text/plain": [
       "name    Daniel Walter\n",
       "adr            5400.0\n",
       "Name: 48515, dtype: object"
      ]
     },
     "execution_count": 12,
     "metadata": {},
     "output_type": "execute_result"
    }
   ],
   "source": [
    "data[['name', 'adr']].iloc[48515]\n",
    "#using iloc to specify rows and columns by their integer position values.\n"
   ]
  },
  {
   "cell_type": "markdown",
   "id": "23fe6a58",
   "metadata": {},
   "source": [
    "<b>Delete the 'agent' column from the dataframe.</b>"
   ]
  },
  {
   "cell_type": "code",
   "execution_count": 13,
   "id": "7ea62c7f",
   "metadata": {},
   "outputs": [
    {
     "data": {
      "text/html": [
       "<div>\n",
       "<style scoped>\n",
       "    .dataframe tbody tr th:only-of-type {\n",
       "        vertical-align: middle;\n",
       "    }\n",
       "\n",
       "    .dataframe tbody tr th {\n",
       "        vertical-align: top;\n",
       "    }\n",
       "\n",
       "    .dataframe thead th {\n",
       "        text-align: right;\n",
       "    }\n",
       "</style>\n",
       "<table border=\"1\" class=\"dataframe\">\n",
       "  <thead>\n",
       "    <tr style=\"text-align: right;\">\n",
       "      <th></th>\n",
       "      <th>booking_id</th>\n",
       "      <th>hotel</th>\n",
       "      <th>is_canceled</th>\n",
       "      <th>arrival_date_year</th>\n",
       "      <th>arrival_date_month</th>\n",
       "      <th>arrival_date_week_number</th>\n",
       "      <th>arrival_date_day_of_month</th>\n",
       "      <th>stays_in_weekend_nights</th>\n",
       "      <th>stays_in_week_nights</th>\n",
       "      <th>adults</th>\n",
       "      <th>...</th>\n",
       "      <th>customer_type</th>\n",
       "      <th>adr</th>\n",
       "      <th>required_car_parking_spaces</th>\n",
       "      <th>total_of_special_requests</th>\n",
       "      <th>reservation_status</th>\n",
       "      <th>reservation_status_date</th>\n",
       "      <th>name</th>\n",
       "      <th>email</th>\n",
       "      <th>phone-number</th>\n",
       "      <th>credit_card</th>\n",
       "    </tr>\n",
       "  </thead>\n",
       "  <tbody>\n",
       "    <tr>\n",
       "      <th>0</th>\n",
       "      <td>181104</td>\n",
       "      <td>Resort Hotel</td>\n",
       "      <td>0</td>\n",
       "      <td>2015</td>\n",
       "      <td>July</td>\n",
       "      <td>27</td>\n",
       "      <td>1</td>\n",
       "      <td>0</td>\n",
       "      <td>0</td>\n",
       "      <td>2</td>\n",
       "      <td>...</td>\n",
       "      <td>Transient</td>\n",
       "      <td>0.0</td>\n",
       "      <td>0</td>\n",
       "      <td>0</td>\n",
       "      <td>Check-Out</td>\n",
       "      <td>7/1/15</td>\n",
       "      <td>Ernest Barnes</td>\n",
       "      <td>Ernest.Barnes31@outlook.com</td>\n",
       "      <td>669-792-1661</td>\n",
       "      <td>************4322</td>\n",
       "    </tr>\n",
       "    <tr>\n",
       "      <th>1</th>\n",
       "      <td>181105</td>\n",
       "      <td>Resort Hotel</td>\n",
       "      <td>0</td>\n",
       "      <td>2015</td>\n",
       "      <td>July</td>\n",
       "      <td>27</td>\n",
       "      <td>1</td>\n",
       "      <td>0</td>\n",
       "      <td>0</td>\n",
       "      <td>2</td>\n",
       "      <td>...</td>\n",
       "      <td>Transient</td>\n",
       "      <td>0.0</td>\n",
       "      <td>0</td>\n",
       "      <td>0</td>\n",
       "      <td>Check-Out</td>\n",
       "      <td>7/1/15</td>\n",
       "      <td>Andrea Baker</td>\n",
       "      <td>Andrea_Baker94@aol.com</td>\n",
       "      <td>858-637-6955</td>\n",
       "      <td>************9157</td>\n",
       "    </tr>\n",
       "    <tr>\n",
       "      <th>2</th>\n",
       "      <td>181106</td>\n",
       "      <td>Resort Hotel</td>\n",
       "      <td>0</td>\n",
       "      <td>2015</td>\n",
       "      <td>July</td>\n",
       "      <td>27</td>\n",
       "      <td>1</td>\n",
       "      <td>0</td>\n",
       "      <td>1</td>\n",
       "      <td>1</td>\n",
       "      <td>...</td>\n",
       "      <td>Transient</td>\n",
       "      <td>75.0</td>\n",
       "      <td>0</td>\n",
       "      <td>0</td>\n",
       "      <td>Check-Out</td>\n",
       "      <td>7/2/15</td>\n",
       "      <td>Rebecca Parker</td>\n",
       "      <td>Rebecca_Parker@comcast.net</td>\n",
       "      <td>652-885-2745</td>\n",
       "      <td>************3734</td>\n",
       "    </tr>\n",
       "    <tr>\n",
       "      <th>3</th>\n",
       "      <td>181107</td>\n",
       "      <td>Resort Hotel</td>\n",
       "      <td>0</td>\n",
       "      <td>2015</td>\n",
       "      <td>July</td>\n",
       "      <td>27</td>\n",
       "      <td>1</td>\n",
       "      <td>0</td>\n",
       "      <td>1</td>\n",
       "      <td>1</td>\n",
       "      <td>...</td>\n",
       "      <td>Transient</td>\n",
       "      <td>75.0</td>\n",
       "      <td>0</td>\n",
       "      <td>0</td>\n",
       "      <td>Check-Out</td>\n",
       "      <td>7/2/15</td>\n",
       "      <td>Laura Murray</td>\n",
       "      <td>Laura_M@gmail.com</td>\n",
       "      <td>364-656-8427</td>\n",
       "      <td>************5677</td>\n",
       "    </tr>\n",
       "    <tr>\n",
       "      <th>4</th>\n",
       "      <td>181108</td>\n",
       "      <td>Resort Hotel</td>\n",
       "      <td>0</td>\n",
       "      <td>2016</td>\n",
       "      <td>July</td>\n",
       "      <td>27</td>\n",
       "      <td>1</td>\n",
       "      <td>0</td>\n",
       "      <td>2</td>\n",
       "      <td>2</td>\n",
       "      <td>...</td>\n",
       "      <td>Transient</td>\n",
       "      <td>98.0</td>\n",
       "      <td>0</td>\n",
       "      <td>1</td>\n",
       "      <td>Check-Out</td>\n",
       "      <td>7/3/15</td>\n",
       "      <td>Linda Hines</td>\n",
       "      <td>LHines@verizon.com</td>\n",
       "      <td>713-226-5883</td>\n",
       "      <td>************5498</td>\n",
       "    </tr>\n",
       "  </tbody>\n",
       "</table>\n",
       "<p>5 rows × 32 columns</p>\n",
       "</div>"
      ],
      "text/plain": [
       "   booking_id         hotel  is_canceled  arrival_date_year  \\\n",
       "0      181104  Resort Hotel            0               2015   \n",
       "1      181105  Resort Hotel            0               2015   \n",
       "2      181106  Resort Hotel            0               2015   \n",
       "3      181107  Resort Hotel            0               2015   \n",
       "4      181108  Resort Hotel            0               2016   \n",
       "\n",
       "  arrival_date_month  arrival_date_week_number  arrival_date_day_of_month  \\\n",
       "0               July                        27                          1   \n",
       "1               July                        27                          1   \n",
       "2               July                        27                          1   \n",
       "3               July                        27                          1   \n",
       "4               July                        27                          1   \n",
       "\n",
       "   stays_in_weekend_nights  stays_in_week_nights  adults  ... customer_type  \\\n",
       "0                        0                     0       2  ...     Transient   \n",
       "1                        0                     0       2  ...     Transient   \n",
       "2                        0                     1       1  ...     Transient   \n",
       "3                        0                     1       1  ...     Transient   \n",
       "4                        0                     2       2  ...     Transient   \n",
       "\n",
       "    adr required_car_parking_spaces total_of_special_requests  \\\n",
       "0   0.0                           0                         0   \n",
       "1   0.0                           0                         0   \n",
       "2  75.0                           0                         0   \n",
       "3  75.0                           0                         0   \n",
       "4  98.0                           0                         1   \n",
       "\n",
       "  reservation_status reservation_status_date            name  \\\n",
       "0          Check-Out                  7/1/15   Ernest Barnes   \n",
       "1          Check-Out                  7/1/15    Andrea Baker   \n",
       "2          Check-Out                  7/2/15  Rebecca Parker   \n",
       "3          Check-Out                  7/2/15    Laura Murray   \n",
       "4          Check-Out                  7/3/15     Linda Hines   \n",
       "\n",
       "                         email  phone-number       credit_card  \n",
       "0  Ernest.Barnes31@outlook.com  669-792-1661  ************4322  \n",
       "1       Andrea_Baker94@aol.com  858-637-6955  ************9157  \n",
       "2   Rebecca_Parker@comcast.net  652-885-2745  ************3734  \n",
       "3            Laura_M@gmail.com  364-656-8427  ************5677  \n",
       "4           LHines@verizon.com  713-226-5883  ************5498  \n",
       "\n",
       "[5 rows x 32 columns]"
      ]
     },
     "execution_count": 13,
     "metadata": {},
     "output_type": "execute_result"
    }
   ],
   "source": [
    "data.drop('agent', axis=1 , inplace=True)\n",
    "data.head()"
   ]
  },
  {
   "cell_type": "markdown",
   "id": "88f02677",
   "metadata": {},
   "source": [
    "<b>Check again whether any missing data is available or not...</b>"
   ]
  },
  {
   "cell_type": "code",
   "execution_count": 14,
   "id": "645e3bf4",
   "metadata": {},
   "outputs": [
    {
     "data": {
      "text/plain": [
       "booking_id                     0\n",
       "hotel                          0\n",
       "is_canceled                    0\n",
       "arrival_date_year              0\n",
       "arrival_date_month             0\n",
       "arrival_date_week_number       0\n",
       "arrival_date_day_of_month      0\n",
       "stays_in_weekend_nights        0\n",
       "stays_in_week_nights           0\n",
       "adults                         0\n",
       "children                       0\n",
       "babies                         0\n",
       "meal                           0\n",
       "country                        0\n",
       "market_segment                 0\n",
       "distribution_channel           0\n",
       "is_repeated_guest              0\n",
       "previous_cancellations         0\n",
       "reserved_room_type             0\n",
       "assigned_room_type             0\n",
       "booking_changes                0\n",
       "deposit_type                   0\n",
       "customer_type                  0\n",
       "adr                            0\n",
       "required_car_parking_spaces    0\n",
       "total_of_special_requests      0\n",
       "reservation_status             0\n",
       "reservation_status_date        0\n",
       "name                           0\n",
       "email                          0\n",
       "phone-number                   0\n",
       "credit_card                    0\n",
       "dtype: int64"
      ]
     },
     "execution_count": 14,
     "metadata": {},
     "output_type": "execute_result"
    }
   ],
   "source": [
    "data.isnull().sum()"
   ]
  },
  {
   "cell_type": "markdown",
   "id": "4c95eaa9",
   "metadata": {},
   "source": [
    "### filtering out bad data"
   ]
  },
  {
   "cell_type": "markdown",
   "id": "7d03e66a",
   "metadata": {},
   "source": [
    "### <i>Is_cancelled</i> field indicating if the booking was canceled (1) or not (0) but why (2)"
   ]
  },
  {
   "cell_type": "code",
   "execution_count": 15,
   "id": "478d4345",
   "metadata": {},
   "outputs": [
    {
     "data": {
      "text/plain": [
       "0    75161\n",
       "1    44223\n",
       "2        6\n",
       "Name: is_canceled, dtype: int64"
      ]
     },
     "execution_count": 15,
     "metadata": {},
     "output_type": "execute_result"
    }
   ],
   "source": [
    "data['is_canceled'].value_counts().head()"
   ]
  },
  {
   "cell_type": "code",
   "execution_count": 16,
   "id": "5adda78c",
   "metadata": {},
   "outputs": [],
   "source": [
    "data['is_canceled'].replace(to_replace = 2, value = 0, inplace=True)"
   ]
  },
  {
   "cell_type": "code",
   "execution_count": 17,
   "id": "3d9de9c1",
   "metadata": {},
   "outputs": [
    {
     "data": {
      "text/plain": [
       "0    75167\n",
       "1    44223\n",
       "Name: is_canceled, dtype: int64"
      ]
     },
     "execution_count": 17,
     "metadata": {},
     "output_type": "execute_result"
    }
   ],
   "source": [
    "data['is_canceled'].value_counts().head()"
   ]
  },
  {
   "cell_type": "markdown",
   "id": "dd8d16e4",
   "metadata": {},
   "source": [
    "### MEASURES OF CENTRAL TENDENCY"
   ]
  },
  {
   "cell_type": "code",
   "execution_count": 18,
   "id": "5b8e3d6f",
   "metadata": {},
   "outputs": [
    {
     "name": "stdout",
     "output_type": "stream",
     "text": [
      "mean : 27.0\n",
      "median : 28.0\n",
      "mode : 33\n"
     ]
    }
   ],
   "source": [
    "mean = round(st.mean(data['arrival_date_week_number']), 0)\n",
    "print(\"mean :\",mean)\n",
    "median = round(st.median(data['arrival_date_week_number']), 2)\n",
    "print(\"median :\",median)\n",
    "mode = round(st.mode(data['arrival_date_week_number']), 0)\n",
    "print(\"mode :\",mode)"
   ]
  },
  {
   "cell_type": "markdown",
   "id": "f1c75427",
   "metadata": {},
   "source": [
    "### MEASURE OF VARIABILITY"
   ]
  },
  {
   "cell_type": "markdown",
   "id": "a0db9ba1",
   "metadata": {},
   "source": [
    "### 4 main measures of variability"
   ]
  },
  {
   "cell_type": "markdown",
   "id": "5d858e9a",
   "metadata": {},
   "source": [
    "<b>Range:</b> the difference between the highest and lowest values.\n",
    "\n",
    "<b>Interquartile range:</b> the range of the middle half of a distribution.\n",
    "\n",
    "<b>Standard deviation:</b> average distance from the mean.\n",
    "\n",
    "<b>Variance:</b> average of squared distances from the mean.\n"
   ]
  },
  {
   "cell_type": "code",
   "execution_count": 19,
   "id": "e54f53ee",
   "metadata": {},
   "outputs": [
    {
     "name": "stdout",
     "output_type": "stream",
     "text": [
      "Range:  5406.38\n"
     ]
    }
   ],
   "source": [
    "min_value = min(data['adr'])\n",
    "max_value = max(data['adr'])\n",
    "range_value = round(max_value-min_value, 2)\n",
    "print(\"Range: \",range_value)"
   ]
  },
  {
   "cell_type": "code",
   "execution_count": 20,
   "id": "80abfc12",
   "metadata": {},
   "outputs": [
    {
     "name": "stdout",
     "output_type": "stream",
     "text": [
      "Inter Quartile Range :  56.71\n"
     ]
    }
   ],
   "source": [
    "quartile3 = np.percentile(data['adr'], 75)\n",
    "quartile1 = np.percentile(data['adr'], 25)\n",
    "InterQuartile_range = round(quartile3-quartile1, 2)\n",
    "print(\"Inter Quartile Range : \",InterQuartile_range)"
   ]
  },
  {
   "cell_type": "code",
   "execution_count": 21,
   "id": "94e485a5",
   "metadata": {},
   "outputs": [
    {
     "name": "stdout",
     "output_type": "stream",
     "text": [
      "variance : 185.0\n",
      "Standard Deviation : 14.0\n"
     ]
    }
   ],
   "source": [
    "variance = round(st.pvariance(data['arrival_date_week_number']), 0)\n",
    "print(\"variance :\",variance)\n",
    "std = round(st.pstdev(data['arrival_date_week_number']), 0)\n",
    "print(\"Standard Deviation :\",std)"
   ]
  },
  {
   "cell_type": "markdown",
   "id": "ec89ba75",
   "metadata": {},
   "source": [
    "## Suitable charts"
   ]
  },
  {
   "cell_type": "markdown",
   "id": "d49c415c",
   "metadata": {},
   "source": [
    "### Box plot of company distribution in hotel"
   ]
  },
  {
   "cell_type": "code",
   "execution_count": 22,
   "id": "fbaae973",
   "metadata": {
    "scrolled": true
   },
   "outputs": [
    {
     "data": {
      "text/plain": [
       "Text(0, 0.5, 'COUNT')"
      ]
     },
     "execution_count": 22,
     "metadata": {},
     "output_type": "execute_result"
    },
    {
     "data": {
      "image/png": "[encoded data removed]",
      "text/plain": [
       "<Figure size 432x288 with 1 Axes>"
      ]
     },
     "metadata": {
      "needs_background": "light"
     },
     "output_type": "display_data"
    }
   ],
   "source": [
    "sns.countplot(x='hotel',data=data,color='RED')\n",
    "plt.title('BAR CHART - HOTEL TYPE', size=20,color='GREEN')\n",
    "plt.xlabel('HOTEL', size=15,color='RED')\n",
    "plt.ylabel('COUNT', size=15, color='RED')"
   ]
  },
  {
   "cell_type": "code",
   "execution_count": 23,
   "id": "aeb4f2e9",
   "metadata": {},
   "outputs": [
    {
     "data": {
      "text/plain": [
       "([<matplotlib.patches.Wedge at 0x7ff4892e1040>,\n",
       "  <matplotlib.patches.Wedge at 0x7ff4892e1760>],\n",
       " [Text(-0.4355687188515051, 1.0100890511029503, 'Cancelled'),\n",
       "  Text(0.435568813422865, -1.0100890103220594, 'Not-Cancelled')],\n",
       " [Text(-0.23758293755536639, 0.5509576642379729, '63.0%'),\n",
       "  Text(0.23758298913974452, -0.5509576419938506, '37.0%')])"
      ]
     },
     "execution_count": 23,
     "metadata": {},
     "output_type": "execute_result"
    },
    {
     "data": {
      "image/png": "[encoded data removed]",
      "text/plain": [
       "<Figure size 1008x432 with 2 Axes>"
      ]
     },
     "metadata": {},
     "output_type": "display_data"
    }
   ],
   "source": [
    "plt.figure(figsize=(14,6))\n",
    "plt.subplot(1,2,1)\n",
    "plt.title('PIE CHART- % OF HOTELS', size=20,color='GREEN')\n",
    "plt.pie(data['hotel'].value_counts(),labels=['City Hotel','Resort Hotel'],autopct='%.1f%%')\n",
    "plt.subplot(1,2,2)\n",
    "plt.title('PIE CHART- % OF CANCELLED HOTELS', size=20,color='GREEN')\n",
    "plt.pie(data['is_canceled'].value_counts(),labels=['Cancelled','Not-Cancelled'],autopct='%.1f%%')"
   ]
  },
  {
   "cell_type": "code",
   "execution_count": 24,
   "id": "2dc275e7",
   "metadata": {
    "scrolled": true
   },
   "outputs": [
    {
     "data": {
      "text/plain": [
       "Text(0, 0.5, 'COUNT')"
      ]
     },
     "execution_count": 24,
     "metadata": {},
     "output_type": "execute_result"
    },
    {
     "data": {
      "image/png": "[encoded data removed]",
      "text/plain": [
       "<Figure size 1008x432 with 2 Axes>"
      ]
     },
     "metadata": {
      "needs_background": "light"
     },
     "output_type": "display_data"
    }
   ],
   "source": [
    "plt.figure(figsize=(14,6))\n",
    "plt.subplot(1,2,1)\n",
    "sns.countplot(data=data, x='arrival_date_year',palette='Blues')\n",
    "plt.xlabel('arrival_date_year', size=15,color='RED')\n",
    "plt.ylabel('COUNT', size=15, color='RED')\n",
    "plt.subplot(1,2,2)\n",
    "plt.xticks(rotation=-45)\n",
    "sns.countplot(data=data,x='arrival_date_month')\n",
    "plt.xlabel('arrival_date_month', size=15,color='RED')\n",
    "plt.ylabel('COUNT', size=15, color='RED')"
   ]
  },
  {
   "cell_type": "code",
   "execution_count": 25,
   "id": "986d80a8",
   "metadata": {},
   "outputs": [
    {
     "data": {
      "text/plain": [
       "Text(0, 0.5, 'COUNT')"
      ]
     },
     "execution_count": 25,
     "metadata": {},
     "output_type": "execute_result"
    },
    {
     "data": {
      "image/png": "[encoded data removed]",
      "text/plain": [
       "<Figure size 1008x432 with 1 Axes>"
      ]
     },
     "metadata": {
      "needs_background": "light"
     },
     "output_type": "display_data"
    }
   ],
   "source": [
    "plt.figure(figsize=(14,6))\n",
    "plt.xticks(rotation=-45)\n",
    "sns.countplot(data=data, x='arrival_date_week_number')\n",
    "plt.xlabel('arrival_date_week_number', size=15,color='RED')\n",
    "plt.ylabel('COUNT', size=15, color='RED')"
   ]
  },
  {
   "cell_type": "code",
   "execution_count": 26,
   "id": "cc785df0",
   "metadata": {},
   "outputs": [
    {
     "data": {
      "text/plain": [
       "(array([0, 1, 2, 3, 4, 5, 6, 7]),\n",
       " [Text(0, 0, 'Direct'),\n",
       "  Text(1, 0, 'Corporate'),\n",
       "  Text(2, 0, 'Online TA'),\n",
       "  Text(3, 0, 'Offline TA/TO'),\n",
       "  Text(4, 0, 'Complementary'),\n",
       "  Text(5, 0, 'Groups'),\n",
       "  Text(6, 0, 'Undefined'),\n",
       "  Text(7, 0, 'Aviation')])"
      ]
     },
     "execution_count": 26,
     "metadata": {},
     "output_type": "execute_result"
    },
    {
     "data": {
      "image/png": "[encoded data removed]",
      "text/plain": [
       "<Figure size 432x288 with 1 Axes>"
      ]
     },
     "metadata": {
      "needs_background": "light"
     },
     "output_type": "display_data"
    }
   ],
   "source": [
    "sns.countplot(data= data,x='market_segment')\n",
    "plt.xticks(rotation = 50)"
   ]
  },
  {
   "cell_type": "code",
   "execution_count": 27,
   "id": "381c97eb",
   "metadata": {},
   "outputs": [
    {
     "data": {
      "text/plain": [
       "<AxesSubplot:xlabel='hotel', ylabel='arrival_date_year'>"
      ]
     },
     "execution_count": 27,
     "metadata": {},
     "output_type": "execute_result"
    },
    {
     "data": {
      "image/png": "[encoded data removed]",
      "text/plain": [
       "<Figure size 432x288 with 1 Axes>"
      ]
     },
     "metadata": {
      "needs_background": "light"
     },
     "output_type": "display_data"
    }
   ],
   "source": [
    "sns.boxplot(data=data, x='hotel', y = 'arrival_date_year')"
   ]
  },
  {
   "cell_type": "code",
   "execution_count": 28,
   "id": "d6d9a9db",
   "metadata": {},
   "outputs": [
    {
     "data": {
      "text/plain": [
       "<matplotlib.legend.Legend at 0x7ff489d5da00>"
      ]
     },
     "execution_count": 28,
     "metadata": {},
     "output_type": "execute_result"
    },
    {
     "data": {
      "image/png": "[encoded data removed]",
      "text/plain": [
       "<Figure size 576x288 with 1 Axes>"
      ]
     },
     "metadata": {
      "needs_background": "light"
     },
     "output_type": "display_data"
    }
   ],
   "source": [
    "fig=plt.figure(figsize=(8,4))\n",
    "ax=fig.add_axes([0,0,1,1])\n",
    "sns.barplot(data=data,x='hotel',y='adr',hue='arrival_date_month')\n",
    "plt.legend(loc=(1.02,0))"
   ]
  },
  {
   "cell_type": "code",
   "execution_count": 29,
   "id": "964a4375",
   "metadata": {},
   "outputs": [
    {
     "data": {
      "text/plain": [
       "<AxesSubplot:xlabel='babies', ylabel='count'>"
      ]
     },
     "execution_count": 29,
     "metadata": {},
     "output_type": "execute_result"
    },
    {
     "data": {
      "image/png": "[encoded data removed]",
      "text/plain": [
       "<Figure size 1080x360 with 3 Axes>"
      ]
     },
     "metadata": {
      "needs_background": "light"
     },
     "output_type": "display_data"
    }
   ],
   "source": [
    "plt.figure(figsize=(15,5))\n",
    "plt.subplot(1,3,1)\n",
    "sns.countplot(data=data,x='adults',palette='Paired')\n",
    "plt.subplot(1,3,2)\n",
    "sns.countplot(data=data,x='children',palette='Paired')\n",
    "plt.subplot(1,3,3)\n",
    "sns.countplot(data=data,x='babies',palette='Paired')"
   ]
  },
  {
   "cell_type": "markdown",
   "id": "de61edab",
   "metadata": {},
   "source": [
    "# Conclusion"
   ]
  },
  {
   "cell_type": "markdown",
   "id": "33668749",
   "metadata": {},
   "source": [
    "##  What is your dataset and why do you think it’s interesting?\n",
    "<b>This dataset describes the information about hotel bookings of the customer. By using this dataset, predict the future outcomes like... </b>\n",
    "<b><ul>\n",
    "    <li>Count of city hotel customers and resort hotel customers </li>\n",
    "    <li>Count of customers in each month, year and week number</li>\n",
    "    <li>adults,children and babies in each year</li>\n",
    "</ul><b>\n",
    "\n",
    "<b>By using these outcomes, Hotels can predict the customer flow for next months.</b>"
   ]
  },
  {
   "cell_type": "markdown",
   "id": "4e0151cf",
   "metadata": {},
   "source": [
    "## What data cleanup was required?\n",
    "<ul>\n",
    "    <li><b>Remove the AGENT column</b></li>\n",
    "    <li><b>Replace null values into highest value for COUNTRY column</b></li>\n",
    "    <li><b>NaN values should be removed for CHILDREN column</b></li>\n",
    "</ul>"
   ]
  },
  {
   "cell_type": "markdown",
   "id": "0de7a429",
   "metadata": {},
   "source": [
    "## Before you did the analysis, what did you hope to discover?\n",
    "<b>Before starting the analysis, I was hoping\n",
    "    To first differentiate the city hotels and resort hotels and then figuring out which hotels is having more customers and as shown in the graphical representation we can see that\n",
    "    <ul><li>Percentage of City Hotels is more in this dataset compared to Resort Hotels.</li>\n",
    "        <li>Which month has the highest Average Density rate</li> \n",
    "        <li>In 2016, more number of customers compared t0 other years</li>\n",
    "        <li>In Market segment, more number of customers booking rooms through Online TA</li>\n",
    "    </ul>"
   ]
  },
  {
   "cell_type": "markdown",
   "id": "be139f1a",
   "metadata": {},
   "source": [
    "## What was your overall approach to analysis?\n",
    "### The overall approach to the analysis is explained as markdowns in each step all along the way.\n",
    "<b><ul> <li> Cleanse the data</li>\n",
    "     <li> Count of customers in each month, year and week number</li>\n",
    "     <li> Insights for customer flow</li>   \n",
    "</ul>    </b>"
   ]
  },
  {
   "cell_type": "markdown",
   "id": "7ffdeaae",
   "metadata": {},
   "source": [
    "### What insights did you discover from your analysis? Will it support good decision-making?\n",
    "<b><ul><li>In resort hotels, August month has the highest Average Density rate.</li>\n",
    "    <li>In 2016, more number of customers compared to other years</li><ul></b>"
   ]
  },
  {
   "cell_type": "code",
   "execution_count": null,
   "id": "3693d08e",
   "metadata": {},
   "outputs": [],
   "source": []
  }
 ],
 "metadata": {
  "kernelspec": {
   "display_name": "Python 3 (ipykernel)",
   "language": "python",
   "name": "python3"
  },
  "language_info": {
   "codemirror_mode": {
    "name": "ipython",
    "version": 3
   },
   "file_extension": ".py",
   "mimetype": "text/x-python",
   "name": "python",
   "nbconvert_exporter": "python",
   "pygments_lexer": "ipython3",
   "version": "3.9.12"
  }
 },
 "nbformat": 4,
 "nbformat_minor": 5
}
